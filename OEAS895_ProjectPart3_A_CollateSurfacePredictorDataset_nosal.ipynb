{
 "cells": [
  {
   "cell_type": "markdown",
   "metadata": {},
   "source": [
    "## Script summary \n",
    "This script takes satellite data (sst, chl-a, pc and sss) and bins them by lat/lon to yield average values of each parameter for each grid cell. These values will then be used to model Nfix rates for each cell.\n",
    "\n",
    "The script is organized as follows:\n",
    "\n",
    "1) Data are imported.\n",
    "\n",
    "2) Data are transformed.\n",
    "\n",
    "3) Data are binned and output to a new file.\n",
    "\n",
    "*Note:  Salinity data are excluded from this version of the script as these data are at very low resolution and ultimately do not improve model performance.*"
   ]
  },
  {
   "cell_type": "code",
   "execution_count": 1,
   "metadata": {},
   "outputs": [],
   "source": [
    "# This script was written using Python 3.7\n",
    "\n",
    "# for general use...\n",
    "import pandas as pd # written using v. 0.24.2\n",
    "import numpy as np # written using v. 1.16.2\n",
    "\n",
    "# for calculations...\n",
    "import math # written using v. 1.1.0\n",
    "import scipy.stats as ss # written using v. 1.3.2\n",
    "import gsw # written using v. 3.3.1\n",
    "\n",
    "# for data visualization...\n",
    "import matplotlib.pyplot as plt # written using v. 3.1.1\n",
    "import cmocean # written using v. 2.0\n",
    "import string\n",
    "\n",
    "# for creating maps...\n",
    "import cartopy as cp # written using v. 0.17.0\n",
    "import cartopy.crs as ccrs # CRS holds the various projections\n",
    "from cartopy.mpl.gridliner import LONGITUDE_FORMATTER, LATITUDE_FORMATTER\n",
    "from cartopy.io import shapereader\n",
    "\n",
    "# to read netCDF data...\n",
    "import netCDF4 as nc # written using v. 1.4.2\n",
    "from netCDF4 import Dataset as NetCDFFile\n",
    "\n",
    "# to save final figures as .tiff...\n",
    "from PIL import Image # written using v. 7.0.0\n",
    "import io"
   ]
  },
  {
   "cell_type": "markdown",
   "metadata": {},
   "source": [
    "## 1) Data are imported."
   ]
  },
  {
   "cell_type": "code",
   "execution_count": 149,
   "metadata": {},
   "outputs": [],
   "source": [
    "# sst data from https://oceandata.sci.gsfc.nasa.gov; accessed 2020-3-19\n",
    "# units:  degrees Celsius\n",
    "\n",
    "# CITATION: NASA Goddard Space Flight Center, O.B.P.G. (2018 Reprocessing) Moderate-resolution Imaging Spectroradiometer \n",
    "# (MODIS) Aqua Chlorophyll Data. NASA Ocean Biology Distibuted Active Archive Center (OB.DAAC), Goddard Space Flight Center,\n",
    "# Greenbelt, MD. https://oceancolor.gsfc.nasa.gov/\n",
    "\n",
    "infile = '../Data/AQUA_MODIS.20160812_20160819.L3m.8D.SST.x_sst.nc'\n",
    "df_tsat = nc.Dataset(infile)\n",
    "tlat = df_tsat.variables['lat'][:]\n",
    "tlon = df_tsat.variables['lon'][:]\n",
    "tsat = df_tsat.variables['sst'][:]\n",
    "\n",
    "df_tsat.close()"
   ]
  },
  {
   "cell_type": "code",
   "execution_count": 150,
   "metadata": {},
   "outputs": [
    {
     "name": "stdout",
     "output_type": "stream",
     "text": [
      "Lon shape: 240\n",
      "Lat shape: 240\n",
      "Var shape:\n",
      "(240, 240)\n"
     ]
    }
   ],
   "source": [
    "print(\"Lon shape: %i\" % tlon.shape)\n",
    "print(\"Lat shape: %i\" % tlat.shape)\n",
    "print(\"Var shape:\")\n",
    "print(tsat.shape)"
   ]
  },
  {
   "cell_type": "code",
   "execution_count": 151,
   "metadata": {},
   "outputs": [
    {
     "name": "stderr",
     "output_type": "stream",
     "text": [
      "C:\\Users\\corda\\Anaconda3\\lib\\site-packages\\ipykernel_launcher.py:15: RuntimeWarning: invalid value encountered in log10\n",
      "  from ipykernel import kernelapp as app\n"
     ]
    }
   ],
   "source": [
    "# chl data from https://oceandata.sci.gsfc.nasa.gov; accessed 2020-3-19\n",
    "# units:  mg m^-3\n",
    "\n",
    "# CITATION: NASA Goddard Space Flight Center, O.B.P.G. (2018 Reprocessing) Moderate-resolution Imaging Spectroradiometer \n",
    "# (MODIS) Aqua Chlorophyll Data. NASA Ocean Biology Distibuted Active Archive Center (OB.DAAC), Goddard Space Flight Center,\n",
    "# Greenbelt, MD. https://oceancolor.gsfc.nasa.gov/\n",
    "\n",
    "infile = '../Data/AQUA_MODIS20160812_20160819_L3m_8D_CHL.x_chlor_a.nc'\n",
    "df_csat = nc.Dataset(infile)\n",
    "clat = df_csat.variables['lat'][:]\n",
    "clon = df_csat.variables['lon'][:]\n",
    "csat = df_csat.variables['chlor_a'][:]\n",
    "\n",
    "df_csat.close()\n",
    "logcsat = np.log10(csat)"
   ]
  },
  {
   "cell_type": "code",
   "execution_count": 152,
   "metadata": {},
   "outputs": [
    {
     "name": "stdout",
     "output_type": "stream",
     "text": [
      "Lon shape: 480\n",
      "Lat shape: 288\n",
      "Var shape:\n",
      "(288, 480)\n"
     ]
    }
   ],
   "source": [
    "print(\"Lon shape: %i\" % clon.shape)\n",
    "print(\"Lat shape: %i\" % clat.shape)\n",
    "print(\"Var shape:\")\n",
    "print(csat.shape)"
   ]
  },
  {
   "cell_type": "code",
   "execution_count": 153,
   "metadata": {},
   "outputs": [
    {
     "data": {
      "text/plain": [
       "(240, 240)"
      ]
     },
     "execution_count": 153,
     "metadata": {},
     "output_type": "execute_result"
    }
   ],
   "source": [
    "# pic data from https://oceandata.sci.gsfc.nasa.gov; accessed 2020-3-24\n",
    "# units: mol m^-3 = mM\n",
    "\n",
    "# CITATION: NASA Goddard Space Flight Center, O.B.P.G. (2018 Reprocessing) Moderate-resolution Imaging Spectroradiometer \n",
    "# (MODIS) Aqua Chlorophyll Data. NASA Ocean Biology Distibuted Active Archive Center (OB.DAAC), Goddard Space Flight Center,\n",
    "# Greenbelt, MD. https://oceancolor.gsfc.nasa.gov/\n",
    "\n",
    "infile = '../Data/A20162252016232.L3m_8D_PIC.x_pic.nc'\n",
    "pic_df = nc.Dataset(infile)\n",
    "piclat = pic_df.variables['lat'][:]\n",
    "piclon = pic_df.variables['lon'][:]\n",
    "pic = pic_df.variables['pic'][:]\n",
    "\n",
    "pic_df.close()\n",
    "\n",
    "pic.shape"
   ]
  },
  {
   "cell_type": "code",
   "execution_count": 154,
   "metadata": {},
   "outputs": [
    {
     "data": {
      "text/plain": [
       "(240, 240)"
      ]
     },
     "execution_count": 154,
     "metadata": {},
     "output_type": "execute_result"
    }
   ],
   "source": [
    "# poc data from https://oceandata.sci.gsfc.nasa.gov; accessed 2020-3-24\n",
    "# units:  mg m^-3\n",
    "\n",
    "# CITATION: NASA Goddard Space Flight Center, O.B.P.G. (2018 Reprocessing) Moderate-resolution Imaging Spectroradiometer \n",
    "# (MODIS) Aqua Chlorophyll Data. NASA Ocean Biology Distibuted Active Archive Center (OB.DAAC), Goddard Space Flight Center,\n",
    "# Greenbelt, MD. https://oceancolor.gsfc.nasa.gov/\n",
    "\n",
    "infile = '../Data/A20162252016232.L3m_8D_POC.x_poc.nc'\n",
    "poc_df = nc.Dataset(infile)\n",
    "poclat = poc_df.variables['lat'][:]\n",
    "poclon = poc_df.variables['lon'][:]\n",
    "poc = poc_df.variables['poc'][:]\n",
    "\n",
    "poc_df.close()\n",
    "\n",
    "poc.shape"
   ]
  },
  {
   "cell_type": "code",
   "execution_count": 155,
   "metadata": {},
   "outputs": [
    {
     "name": "stderr",
     "output_type": "stream",
     "text": [
      "C:\\Users\\corda\\Anaconda3\\lib\\site-packages\\ipykernel_launcher.py:8: RuntimeWarning: invalid value encountered in log10\n",
      "  \n"
     ]
    }
   ],
   "source": [
    "# Total particulate carbon was measured on-board. Here I calculate it from MODIS PIC and POC concentrations.\n",
    "\n",
    "# Standardize units\n",
    "poc_uM = poc/(12.011) # 1 mmol C = 12.011 mg C; 1 m^3 = 1000 L\n",
    "pic_uM = pic*1000\n",
    "\n",
    "pcsat = poc_uM + pic_uM\n",
    "logpcsat = np.log10(pcsat)"
   ]
  },
  {
   "cell_type": "code",
   "execution_count": 156,
   "metadata": {},
   "outputs": [
    {
     "name": "stdout",
     "output_type": "stream",
     "text": [
      "Lon shape: 240\n",
      "Lat shape: 240\n",
      "Var shape:\n",
      "(240, 240)\n"
     ]
    }
   ],
   "source": [
    "print(\"Lon shape: %i\" % piclon.shape)\n",
    "print(\"Lat shape: %i\" % piclat.shape)\n",
    "print(\"Var shape:\")\n",
    "print(pcsat.shape)"
   ]
  },
  {
   "cell_type": "code",
   "execution_count": 157,
   "metadata": {},
   "outputs": [],
   "source": [
    "# sal data from https://podaac-tools.jpl.nasa.gov/drive/files/allData/smap/L3/JPL/V4.3/8day_running/2016/224; accessed 2020-3-27\n",
    "# units: psu\n",
    "\n",
    "# CITATION:  Fore, A., S. Yueh, W. Tanh, A. Hayashi, 2020:  JPL SMAP Ocean Surface Salinity Products [Level 2B, \n",
    "# Level 3 Running 8-day, Level 3 Monthly], Version 4.3 validated release. Jet Propulsion Laboratory, Pasadena, CA, USA.\n",
    "\n",
    "infile = '../Data/SMAP_L3_SSS_20160815_8DAYS_V4.3.nc'\n",
    "df_ssat = nc.Dataset(infile)\n",
    "ssat = df_ssat.variables['smap_sss'][:]\n",
    "slat = df_ssat.variables['latitude'][:]\n",
    "slon = df_ssat.variables['longitude'][:]\n",
    "\n",
    "df_ssat.close()"
   ]
  },
  {
   "cell_type": "code",
   "execution_count": 158,
   "metadata": {},
   "outputs": [
    {
     "name": "stdout",
     "output_type": "stream",
     "text": [
      "Lon shape: 1440\n",
      "Lat shape: 720\n",
      "Var shape:\n",
      "(720, 1440)\n"
     ]
    }
   ],
   "source": [
    "print(\"Lon shape: %i\" % slon.shape)\n",
    "print(\"Lat shape: %i\" % slat.shape)\n",
    "print(\"Var shape:\")\n",
    "print(ssat.shape)"
   ]
  },
  {
   "cell_type": "code",
   "execution_count": 159,
   "metadata": {},
   "outputs": [],
   "source": [
    "# elevation data from https://maps.ngdc.noaa.gov/viewers/wcs-client; accessed 2020-03-19\n",
    "# units:  m\n",
    "\n",
    "# CITATION: Amante, C. and B.W. Eakins, 2009. ETOPO1 1 Arc-Minute Global Relief Model: Procedures, Data Sources and Analysis. \n",
    "# NOAA Technical Memorandum NESDIS NGDC-24. National Geophysical Data Center, NOAA. doi:10.7289/V5C8276M [2020-03-19].\n",
    "\n",
    "infile = 'C:/Users/corda/Dropbox/Resources/etopo1_bedrock_eastNAmericanshelf_20200119.nc'\n",
    "bathy_df = nc.Dataset(infile)\n",
    "blat = bathy_df.variables['lat'][:]\n",
    "blon = bathy_df.variables['lon'][:]\n",
    "bathy = bathy_df.variables['Band1'][:]\n",
    "\n",
    "bathy_df.close()"
   ]
  },
  {
   "cell_type": "code",
   "execution_count": 160,
   "metadata": {},
   "outputs": [
    {
     "name": "stdout",
     "output_type": "stream",
     "text": [
      "Lon shape: 1515\n",
      "Lat shape: 1551\n",
      "Var shape:\n",
      "(1551, 1515)\n"
     ]
    }
   ],
   "source": [
    "print(\"Lon shape: %i\" % blon.shape)\n",
    "print(\"Lat shape: %i\" % blat.shape)\n",
    "print(\"Var shape:\")\n",
    "print(bathy.shape)"
   ]
  },
  {
   "cell_type": "markdown",
   "metadata": {},
   "source": [
    "## 2) Data are transformed.\n",
    "The satellite data are currently n-dimensional arrays. In order to bin these data, we need matrices with lat, lon and a single value for each measurement."
   ]
  },
  {
   "cell_type": "code",
   "execution_count": 161,
   "metadata": {},
   "outputs": [],
   "source": [
    "# This function transforms the n-dimensional satellite data array into a matrix with lat, lon and the data value\n",
    "# The following must be defined:\n",
    "# array - the satellite data array to be transformed\n",
    "# xlat - the list of latitudes corresponding to the array\n",
    "# xlon - the list of longitudes corresponding to the array\n",
    "# OutFileName - the name of the .csv file that will be produced (e.g. \"chlorophyll.csv\")\n",
    "\n",
    "def transform():\n",
    "    OutFile = open(OutFileName, 'w')\n",
    "\n",
    "    # Write header line to new file\n",
    "    OutFile.write(\"lat,lon,value\\n\")\n",
    "\n",
    "    length = len(xlat)\n",
    "    width = len(xlon)\n",
    "\n",
    "    length_list = np.arange(0,length,1)\n",
    "    width_list = np.arange(0,width,1)\n",
    "\n",
    "    for i in length_list:\n",
    "        row = array[i:i+1]\n",
    "        lat = xlat[i:i+1]\n",
    "        for j in width_list:\n",
    "            value = (row[:,j:j+1])\n",
    "            lon = xlon[j:j+1]\n",
    "            OutputString = \"%f,%f,%f\" % (lat,lon,value)\n",
    "            OutFile.write(OutputString + \"\\n\")\n",
    "\n",
    "    OutFile.close()"
   ]
  },
  {
   "cell_type": "code",
   "execution_count": 162,
   "metadata": {},
   "outputs": [
    {
     "name": "stderr",
     "output_type": "stream",
     "text": [
      "C:\\Users\\corda\\Anaconda3\\lib\\site-packages\\ipykernel_launcher.py:26: UserWarning: Warning: converting a masked element to nan.\n"
     ]
    }
   ],
   "source": [
    "# TEMPERATURE\n",
    "# Define data to be transformed and output file name\n",
    "array = tsat\n",
    "xlat = tlat\n",
    "xlon = tlon\n",
    "OutFileName = \"../Calculations/MODIS_8daymean_2016Aug12to19_temp_C.csv\"\n",
    "\n",
    "transform()"
   ]
  },
  {
   "cell_type": "code",
   "execution_count": 163,
   "metadata": {},
   "outputs": [
    {
     "name": "stderr",
     "output_type": "stream",
     "text": [
      "C:\\Users\\corda\\Anaconda3\\lib\\site-packages\\ipykernel_launcher.py:26: UserWarning: Warning: converting a masked element to nan.\n"
     ]
    }
   ],
   "source": [
    "# CHLOROPHYLL A\n",
    "# Define data to be transformed and output file name\n",
    "array = csat\n",
    "xlat = clat\n",
    "xlon = clon\n",
    "OutFileName = \"../Calculations/MODIS_8daymean_2016Aug12to19_chl_mgm3.csv\"\n",
    "\n",
    "transform()"
   ]
  },
  {
   "cell_type": "code",
   "execution_count": 164,
   "metadata": {},
   "outputs": [
    {
     "name": "stderr",
     "output_type": "stream",
     "text": [
      "C:\\Users\\corda\\Anaconda3\\lib\\site-packages\\ipykernel_launcher.py:26: UserWarning: Warning: converting a masked element to nan.\n"
     ]
    }
   ],
   "source": [
    "# PARTICULATE C\n",
    "# Define data to be transformed and output file name\n",
    "array = pcsat\n",
    "xlat = piclat\n",
    "xlon = piclon\n",
    "OutFileName = \"../Calculations/MODIS_8daymean_2016Aug12to19_pc_uM.csv\"\n",
    "\n",
    "transform()"
   ]
  },
  {
   "cell_type": "code",
   "execution_count": 165,
   "metadata": {},
   "outputs": [],
   "source": [
    "# # SALINITY\n",
    "# # Define data to be transformed and output file name\n",
    "# array = ssat\n",
    "# xlat = slat\n",
    "# xlon = slon\n",
    "# OutFileName = \"../Calculations/SMAP_8daymean_2016Aug12to19_sal_psu.csv\"\n",
    "\n",
    "# transform()"
   ]
  },
  {
   "cell_type": "code",
   "execution_count": 166,
   "metadata": {},
   "outputs": [],
   "source": [
    "# BATHYMETRY\n",
    "# Define data to be transformed and output file name\n",
    "array = bathy\n",
    "xlat = blat\n",
    "xlon = blon\n",
    "OutFileName = \"../Calculations/ETOPO1_elevation_m.csv\"\n",
    "\n",
    "transform()"
   ]
  },
  {
   "cell_type": "markdown",
   "metadata": {},
   "source": [
    "## 3) Data are binned and output to a new file.\n",
    "i.e., binned on the same grid at the same resolution at the same resolution"
   ]
  },
  {
   "cell_type": "code",
   "execution_count": 3,
   "metadata": {},
   "outputs": [
    {
     "data": {
      "text/plain": [
       "Text(0, 0.5, 'Latitude ($\\\\degree$N)')"
      ]
     },
     "execution_count": 3,
     "metadata": {},
     "output_type": "execute_result"
    },
    {
     "data": {
      "image/png": "[encoded data removed]",
      "text/plain": [
       "<Figure size 432x288 with 1 Axes>"
      ]
     },
     "metadata": {
      "needs_background": "light"
     },
     "output_type": "display_data"
    }
   ],
   "source": [
    "# need to bin the data into a grid to contour it\n",
    "\n",
    "# make a grid\n",
    "x = np.arange(-80, -72.75, 0.05)\n",
    "y = np.arange(32, 38.25, 0.05)\n",
    "\n",
    "xx, yy = np.meshgrid(x, y)\n",
    "\n",
    "h = plt.plot(xx, yy, 'o')\n",
    "plt.xlabel(\"Longitude ($\\degree$W)\")\n",
    "plt.ylabel(\"Latitude ($\\degree$N)\")"
   ]
  },
  {
   "cell_type": "code",
   "execution_count": 4,
   "metadata": {},
   "outputs": [],
   "source": [
    "# TEMPERATURE\n",
    "# bin the data into the grid\n",
    "\n",
    "infile = \"../Calculations/MODIS_8daymean_2016Aug12to19_temp_C.csv\"\n",
    "df = pd.read_csv(infile)\n",
    "\n",
    "binned_t = ss.binned_statistic_2d(df.lon, df.lat, df.value, statistic='mean', bins=[x, y])"
   ]
  },
  {
   "cell_type": "code",
   "execution_count": 5,
   "metadata": {},
   "outputs": [],
   "source": [
    "# CHLOROPHYLL A\n",
    "# bin the data into the grid\n",
    "\n",
    "infile = \"../Calculations/MODIS_8daymean_2016Aug12to19_chl_mgm3.csv\"\n",
    "df = pd.read_csv(infile)\n",
    "\n",
    "binned_chl = ss.binned_statistic_2d(df.lon, df.lat, df.value, statistic='mean', bins=[x, y])"
   ]
  },
  {
   "cell_type": "code",
   "execution_count": 6,
   "metadata": {},
   "outputs": [],
   "source": [
    "# PARTICULATE C\n",
    "# bin the data into the grid\n",
    "\n",
    "infile = \"../Calculations/MODIS_8daymean_2016Aug12to19_pc_uM.csv\"\n",
    "df = pd.read_csv(infile)\n",
    "\n",
    "binned_pc = ss.binned_statistic_2d(df.lon, df.lat, df.value, statistic='mean', bins=[x, y])"
   ]
  },
  {
   "cell_type": "code",
   "execution_count": 7,
   "metadata": {},
   "outputs": [],
   "source": [
    "# # SALINITY\n",
    "# # bin the data into the grid\n",
    "\n",
    "# infile = \"../Calculations/SMAP_8daymean_2016Aug12to19_sal_psu.csv\"\n",
    "# df = pd.read_csv(infile)\n",
    "\n",
    "# binned_s = ss.binned_statistic_2d(df.lon, df.lat, df.value, statistic='mean', bins=[x, y])"
   ]
  },
  {
   "cell_type": "code",
   "execution_count": 8,
   "metadata": {},
   "outputs": [],
   "source": [
    "# ELEVATION\n",
    "# bin the data into the grid\n",
    "\n",
    "infile = \"../Calculations/ETOPO1_elevation_m.csv\"\n",
    "df = pd.read_csv(infile)\n",
    "\n",
    "binned_b = ss.binned_statistic_2d(df.lon, df.lat, df.value, statistic='mean', bins=[x, y])"
   ]
  },
  {
   "cell_type": "code",
   "execution_count": 182,
   "metadata": {},
   "outputs": [
    {
     "data": {
      "text/plain": [
       "Text(0, 0.5, 'Latitude ($\\\\degree$N)')"
      ]
     },
     "execution_count": 182,
     "metadata": {},
     "output_type": "execute_result"
    },
    {
     "data": {
      "image/png": "[encoded data removed]",
      "text/plain": [
       "<Figure size 750x600 with 2 Axes>"
      ]
     },
     "metadata": {
      "needs_background": "light"
     },
     "output_type": "display_data"
    }
   ],
   "source": [
    "# plot the binned data to ensure everything looks good\n",
    "\n",
    "XX, YY = np.meshgrid(binned_t.x_edge, binned_t.y_edge)\n",
    "\n",
    "fig, ax = plt.subplots(1,1, figsize = (5,4), dpi = 150)\n",
    "\n",
    "palette = 'cmo.thermal'\n",
    "plt.pcolormesh(XX, YY, binned_t.statistic.T, cmap = palette)\n",
    "cb = plt.colorbar()\n",
    "\n",
    "cb.set_label(\"Temperature ($\\degree$C)\")\n",
    "plt.xlabel(\"Longitude ($\\degree$W)\")\n",
    "plt.ylabel(\"Latitude ($\\degree$N)\")"
   ]
  },
  {
   "cell_type": "code",
   "execution_count": 9,
   "metadata": {},
   "outputs": [],
   "source": [
    "# Save the binned data to a .csv file\n",
    "\n",
    "# Make a new file\n",
    "OutFileName = \"../Calculations/compiledseasfcdata_8daymean_2016Aug12to19_onetwentiethdegreegrid.csv\"\n",
    "OutFile = open(OutFileName, 'w')\n",
    "\n",
    "# Write header line to new file\n",
    "OutFile.write(\"Lat,Lon,EstDepth_m,SeafloorDepth_m,Temp_c,Chl_mgm3,PCconc_uM\\n\")\n",
    "\n",
    "# Get an x,y coordinate for the center of each cell\n",
    "xlon = (x[:-1] + x[1:]) / 2\n",
    "xlat = (y[:-1] + y[1:]) / 2\n",
    "\n",
    "# Call n-dimensional arrays of mean values for the given grid\n",
    "# s = binned_s.statistic.T\n",
    "t = binned_t.statistic.T\n",
    "pc = binned_pc.statistic.T\n",
    "chl = binned_chl.statistic.T\n",
    "b = binned_b.statistic.T\n",
    "\n",
    "# Define lists to loop through of the correct size\n",
    "length = len(xlat)\n",
    "width = len(xlon)\n",
    "length_list = np.arange(0,length,1)\n",
    "width_list = np.arange(0,width,1)\n",
    "\n",
    "for i in length_list:\n",
    "    \n",
    "#     row_s = s[i:i+1]\n",
    "    row_t = t[i:i+1]\n",
    "    row_pc = pc[i:i+1]\n",
    "    row_chl = chl[i:i+1]\n",
    "    row_b = b[i:i+1]\n",
    "    lat = xlat[i:i+1]\n",
    "    for j in width_list:\n",
    "        depth = 2.5\n",
    "#         value_s = (row_s[:,j:j+1])\n",
    "        value_t = (row_t[:,j:j+1])\n",
    "        value_pc = (row_pc[:,j:j+1])\n",
    "        value_chl = (row_chl[:,j:j+1])\n",
    "        value_b = (row_b[:,j:j+1])\n",
    "        lon = xlon[j:j+1]\n",
    "        OutputString = \"%f,%f,%f,%f,%f,%f,%f\" % (lat,lon,depth,value_b,value_t,value_chl,value_pc)\n",
    "        OutFile.write(OutputString + \"\\n\")\n",
    "\n",
    "OutFile.close()"
   ]
  },
  {
   "cell_type": "code",
   "execution_count": 10,
   "metadata": {},
   "outputs": [
    {
     "data": {
      "text/html": [
       "<div>\n",
       "<style scoped>\n",
       "    .dataframe tbody tr th:only-of-type {\n",
       "        vertical-align: middle;\n",
       "    }\n",
       "\n",
       "    .dataframe tbody tr th {\n",
       "        vertical-align: top;\n",
       "    }\n",
       "\n",
       "    .dataframe thead th {\n",
       "        text-align: right;\n",
       "    }\n",
       "</style>\n",
       "<table border=\"1\" class=\"dataframe\">\n",
       "  <thead>\n",
       "    <tr style=\"text-align: right;\">\n",
       "      <th></th>\n",
       "      <th>Lat</th>\n",
       "      <th>Lon</th>\n",
       "      <th>EstDepth_m</th>\n",
       "      <th>SeafloorDepth_m</th>\n",
       "      <th>Temp_c</th>\n",
       "      <th>Chl_mgm3</th>\n",
       "      <th>PCconc_uM</th>\n",
       "    </tr>\n",
       "  </thead>\n",
       "  <tbody>\n",
       "    <tr>\n",
       "      <th>0</th>\n",
       "      <td>32.025</td>\n",
       "      <td>-79.975</td>\n",
       "      <td>2.5</td>\n",
       "      <td>-28.444444</td>\n",
       "      <td>29.724998</td>\n",
       "      <td>0.383358</td>\n",
       "      <td>8.274037</td>\n",
       "    </tr>\n",
       "    <tr>\n",
       "      <th>1</th>\n",
       "      <td>32.025</td>\n",
       "      <td>-79.925</td>\n",
       "      <td>2.5</td>\n",
       "      <td>-30.222222</td>\n",
       "      <td>29.760000</td>\n",
       "      <td>0.365913</td>\n",
       "      <td>8.190781</td>\n",
       "    </tr>\n",
       "    <tr>\n",
       "      <th>2</th>\n",
       "      <td>32.025</td>\n",
       "      <td>-79.875</td>\n",
       "      <td>2.5</td>\n",
       "      <td>-30.777778</td>\n",
       "      <td>29.907500</td>\n",
       "      <td>0.358353</td>\n",
       "      <td>8.129861</td>\n",
       "    </tr>\n",
       "    <tr>\n",
       "      <th>3</th>\n",
       "      <td>32.025</td>\n",
       "      <td>-79.825</td>\n",
       "      <td>2.5</td>\n",
       "      <td>-30.000000</td>\n",
       "      <td>30.019999</td>\n",
       "      <td>0.349471</td>\n",
       "      <td>7.992976</td>\n",
       "    </tr>\n",
       "    <tr>\n",
       "      <th>4</th>\n",
       "      <td>32.025</td>\n",
       "      <td>-79.775</td>\n",
       "      <td>2.5</td>\n",
       "      <td>-31.111111</td>\n",
       "      <td>30.054998</td>\n",
       "      <td>0.352093</td>\n",
       "      <td>8.028268</td>\n",
       "    </tr>\n",
       "  </tbody>\n",
       "</table>\n",
       "</div>"
      ],
      "text/plain": [
       "      Lat     Lon  EstDepth_m  SeafloorDepth_m     Temp_c  Chl_mgm3  PCconc_uM\n",
       "0  32.025 -79.975         2.5       -28.444444  29.724998  0.383358   8.274037\n",
       "1  32.025 -79.925         2.5       -30.222222  29.760000  0.365913   8.190781\n",
       "2  32.025 -79.875         2.5       -30.777778  29.907500  0.358353   8.129861\n",
       "3  32.025 -79.825         2.5       -30.000000  30.019999  0.349471   7.992976\n",
       "4  32.025 -79.775         2.5       -31.111111  30.054998  0.352093   8.028268"
      ]
     },
     "execution_count": 10,
     "metadata": {},
     "output_type": "execute_result"
    }
   ],
   "source": [
    "# check output file\n",
    "a = pd.read_csv(OutFileName)\n",
    "a.head()"
   ]
  },
  {
   "cell_type": "code",
   "execution_count": null,
   "metadata": {},
   "outputs": [],
   "source": []
  }
 ],
 "metadata": {
  "kernelspec": {
   "display_name": "Python 3",
   "language": "python",
   "name": "python3"
  },
  "language_info": {
   "codemirror_mode": {
    "name": "ipython",
    "version": 3
   },
   "file_extension": ".py",
   "mimetype": "text/x-python",
   "name": "python",
   "nbconvert_exporter": "python",
   "pygments_lexer": "ipython3",
   "version": "3.7.3"
  }
 },
 "nbformat": 4,
 "nbformat_minor": 4
}
