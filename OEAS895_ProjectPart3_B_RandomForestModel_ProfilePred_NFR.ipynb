{
 "cells": [
  {
   "cell_type": "code",
   "execution_count": 10,
   "metadata": {},
   "outputs": [],
   "source": [
    "# This script was written using Python 3.7\n",
    "\n",
    "import pandas as pd # written using v. 0.24.2\n",
    "import numpy as np # written using v. 1.16.2\n",
    "import math # written using v. 1.1.0\n",
    "import matplotlib.pyplot as plt # written using v. 3.1.1\n",
    "import scipy.stats as ss # written using v. 1.3.2\n",
    "import cmocean # written using v. 2.0"
   ]
  },
  {
   "cell_type": "markdown",
   "metadata": {},
   "source": [
    "## Script summary\n",
    "This script builds a model to predict N2 fixation (NFR) based on data collected from the Mid-/South Atlantic Bight in Aug, 2016, as follows:\n",
    "\n",
    "1) The full training/test/validation dataset is imported and parred down appropriately (measurements made under manipulated environmental conditions eg incubated with excessive C are removed; superfluous explanatory variables eg station number, pressure, etc. are removed; nans are removed). Finally, in order to reduce over-weighting the importance of extreme values in training, the target data were log-transformed as in Sammartino et al (2018, Remote Sensing). Where n2 fixation was not detected, the log of the median detection limit was used.\n",
    "\n",
    "2) 20% of the full dataset is randomly selected and witheld for model validation later (leaving 80% for training and testing).\n",
    "\n",
    "3) Explanatory variables are scaled based on the training/testing data.\n",
    "\n",
    "4) Hyperparameter sensitivity analysis is performed; the model is tuned.\n",
    "\n",
    "5) Model performance is assessed using the validation dataset.\n",
    "\n",
    "6) Predictive X data (CTD data) are read in and scaled.\n",
    "\n",
    "7) Predictive X data are used to predict NFR; predicted NFR are saved for later use."
   ]
  },
  {
   "cell_type": "markdown",
   "metadata": {},
   "source": [
    "## 1) The full training/test/validation dataset is imported and parred down appropriately\n",
    "\n",
    "- measurements made under manipulated environmental conditions eg incubated with excessive C are removed\n",
    "- superfluous explanatory variables eg station number, pressure, etc. are removed\n",
    "- nans are removed"
   ]
  },
  {
   "cell_type": "code",
   "execution_count": 11,
   "metadata": {},
   "outputs": [
    {
     "name": "stdout",
     "output_type": "stream",
     "text": [
      "(379, 34)\n"
     ]
    },
    {
     "data": {
      "text/plain": [
       "Index(['UniqID', 'LocID', 'Sta', 'Depth_m', 'IrregInc_flag', 'IncLength_h',\n",
       "       'IncVol_L', 'GlucoseAdd_ul', 'PCconc_uM', 'PCconc_err', 'PNconc_uM',\n",
       "       'PNconc_err', 'FC_d', 'FC_LOD', 'NFR_nmolNLd', 'NFR_LOD', 'NFR_flag',\n",
       "       'SeaFloor_Depth_m', 'Lat', 'Lon', 'Press_db', 'Sigmat_kgm3', 'Temp_C',\n",
       "       'Sal', 'DO_umolkg', 'Fluor_mgm3', 'PO4_uM', 'PO4_err', 'NO2_uM',\n",
       "       'NO2_err', 'NO3_uM', 'NO3_err', 'NH4_nM', 'NH4_err'],\n",
       "      dtype='object')"
      ]
     },
     "execution_count": 11,
     "metadata": {},
     "output_type": "execute_result"
    }
   ],
   "source": [
    "# import file with NFR and corresponding hydrographic information\n",
    "# see Sharp16_15N2tracer_allrates_hydrograph_ReadMe.csv for full file description\n",
    "\n",
    "infile = '..\\Calculations\\Sharp16_15N2tracer_allrates_hydrograph.csv' # This file contains all replicate rate measurements\n",
    "df = pd.read_csv(infile)\n",
    "\n",
    "# NFR_flag = flag for rate measurements (both FC and NFR)\n",
    "#      - 0 = NFR value can be trusted\n",
    "#      - 1 = analytical error occurred (e.g., 15N2 was not sufficiently enriched, PN on t=f filter was too low or high \n",
    "#            (outside linear range), autosampler/reduction column issues, etc.\n",
    "#      - 2 = N2 fixation was below analytical detection limit\n",
    "\n",
    "# If NFR_flag = 1, NFR and FC = -9999\n",
    "# If NFR_flag = 2, NFR and FC = 0\n",
    "\n",
    "# IrregInc_flag = Irregular incubation flag\n",
    "#     - 0 = incubation is normal\n",
    "#     - 1 = incubation conditions were manipulated (e.g., incubation was artificially dark, C was added,, or inc was 12 \n",
    "#           instead of 24 hours)\n",
    "\n",
    "print(df.shape)\n",
    "df.columns"
   ]
  },
  {
   "cell_type": "code",
   "execution_count": 12,
   "metadata": {},
   "outputs": [
    {
     "name": "stdout",
     "output_type": "stream",
     "text": [
      "(252, 34)\n"
     ]
    }
   ],
   "source": [
    "# exclude rows where the incubation conditions were manipulated (i.e., did not represent the environment) and where\n",
    "# the rate could not be calculated due to an analytical error\n",
    "df = df[(df.IrregInc_flag == 0) & (df.NFR_flag !=1)]\n",
    "print(df.shape)"
   ]
  },
  {
   "cell_type": "code",
   "execution_count": 13,
   "metadata": {},
   "outputs": [
    {
     "name": "stdout",
     "output_type": "stream",
     "text": [
      "(252, 5)\n",
      "(252,)\n"
     ]
    },
    {
     "data": {
      "text/html": [
       "<div>\n",
       "<style scoped>\n",
       "    .dataframe tbody tr th:only-of-type {\n",
       "        vertical-align: middle;\n",
       "    }\n",
       "\n",
       "    .dataframe tbody tr th {\n",
       "        vertical-align: top;\n",
       "    }\n",
       "\n",
       "    .dataframe thead th {\n",
       "        text-align: right;\n",
       "    }\n",
       "</style>\n",
       "<table border=\"1\" class=\"dataframe\">\n",
       "  <thead>\n",
       "    <tr style=\"text-align: right;\">\n",
       "      <th></th>\n",
       "      <th>Depth_m</th>\n",
       "      <th>SeaFloor_Depth_m</th>\n",
       "      <th>Temp_C</th>\n",
       "      <th>Sal</th>\n",
       "      <th>Fluor_mgm3</th>\n",
       "    </tr>\n",
       "  </thead>\n",
       "  <tbody>\n",
       "    <tr>\n",
       "      <th>0</th>\n",
       "      <td>0.93</td>\n",
       "      <td>-1260</td>\n",
       "      <td>26.766684</td>\n",
       "      <td>33.831280</td>\n",
       "      <td>0.588138</td>\n",
       "    </tr>\n",
       "    <tr>\n",
       "      <th>1</th>\n",
       "      <td>0.93</td>\n",
       "      <td>-1260</td>\n",
       "      <td>26.766684</td>\n",
       "      <td>33.831280</td>\n",
       "      <td>0.588138</td>\n",
       "    </tr>\n",
       "    <tr>\n",
       "      <th>2</th>\n",
       "      <td>0.93</td>\n",
       "      <td>-1260</td>\n",
       "      <td>26.766684</td>\n",
       "      <td>33.831280</td>\n",
       "      <td>0.588138</td>\n",
       "    </tr>\n",
       "    <tr>\n",
       "      <th>3</th>\n",
       "      <td>35.37</td>\n",
       "      <td>-1260</td>\n",
       "      <td>15.049992</td>\n",
       "      <td>35.069827</td>\n",
       "      <td>2.362376</td>\n",
       "    </tr>\n",
       "    <tr>\n",
       "      <th>4</th>\n",
       "      <td>35.37</td>\n",
       "      <td>-1260</td>\n",
       "      <td>15.049992</td>\n",
       "      <td>35.069827</td>\n",
       "      <td>2.362376</td>\n",
       "    </tr>\n",
       "  </tbody>\n",
       "</table>\n",
       "</div>"
      ],
      "text/plain": [
       "   Depth_m  SeaFloor_Depth_m     Temp_C        Sal  Fluor_mgm3\n",
       "0     0.93             -1260  26.766684  33.831280    0.588138\n",
       "1     0.93             -1260  26.766684  33.831280    0.588138\n",
       "2     0.93             -1260  26.766684  33.831280    0.588138\n",
       "3    35.37             -1260  15.049992  35.069827    2.362376\n",
       "4    35.37             -1260  15.049992  35.069827    2.362376"
      ]
     },
     "execution_count": 13,
     "metadata": {},
     "output_type": "execute_result"
    }
   ],
   "source": [
    "# select explanatory data for the model\n",
    "# here, we use all available parameters deemed likely to be important\n",
    "\n",
    "X = df.drop(['UniqID', 'LocID', 'IncVol_L', 'Sta', 'IrregInc_flag', 'IncLength_h', 'GlucoseAdd_ul', 'PNconc_uM', 'PNconc_err', 'FC_d',\n",
    "             'FC_LOD', 'NFR_LOD', 'NFR_flag', 'PO4_err', 'NO2_uM', 'NO2_err', 'NO3_err', 'NH4_nM', 'NH4_err', 'PCconc_err',\n",
    "             'Press_db','Sigmat_kgm3','PO4_uM','NO3_uM','Lat','Lon','PCconc_uM','DO_umolkg'], axis = 1).dropna()\n",
    "y = X.NFR_nmolNLd\n",
    "X = X.drop(['NFR_nmolNLd'],axis = 1)\n",
    "\n",
    "print(np.shape(X))\n",
    "print(np.shape(y))\n",
    "\n",
    "X.head()"
   ]
  },
  {
   "cell_type": "code",
   "execution_count": 14,
   "metadata": {},
   "outputs": [],
   "source": [
    "# target data are log-transformed\n",
    "logy = []\n",
    "for i in y:\n",
    "    if i == 0:\n",
    "        logyi = np.log10(np.median(df.NFR_LOD)) # if Nfix was not detectable, use median LOD instead of value\n",
    "    else:\n",
    "        logyi = np.log10(i)\n",
    "    logy.append('%f' % logyi)\n",
    "\n",
    "y = logy"
   ]
  },
  {
   "cell_type": "code",
   "execution_count": 15,
   "metadata": {},
   "outputs": [
    {
     "data": {
      "text/plain": [
       "pandas.core.frame.DataFrame"
      ]
     },
     "execution_count": 15,
     "metadata": {},
     "output_type": "execute_result"
    }
   ],
   "source": [
    "# target data are converted back to pd df\n",
    "y = pd.DataFrame(y, columns = ['nfr'])\n",
    "type(y)"
   ]
  },
  {
   "cell_type": "markdown",
   "metadata": {},
   "source": [
    "## 2) 20% of the full dataset is randomly selected and witheld for model validation later \n",
    "(leaving 80% for training and testing)"
   ]
  },
  {
   "cell_type": "code",
   "execution_count": 16,
   "metadata": {},
   "outputs": [
    {
     "name": "stdout",
     "output_type": "stream",
     "text": [
      "(201, 5)\n",
      "(51, 5)\n",
      "(51,)\n"
     ]
    }
   ],
   "source": [
    "from sklearn.model_selection import train_test_split # v. 0.22.1\n",
    "\n",
    "# split dataset in training/test and validation data (80:20)\n",
    "X_tt, X_val,y_tt,y_val = train_test_split(X,y,test_size = 0.2) # this split function is random\n",
    "\n",
    "# shape of train/test and val objects\n",
    "print(X_tt.shape)\n",
    "print(X_val.shape)\n",
    "\n",
    "# # reformat y_val to match y_pred later\n",
    "y_val = np.array(y_val, dtype = float).reshape(len(y_val),)\n",
    "\n",
    "print(y_val.shape)"
   ]
  },
  {
   "cell_type": "markdown",
   "metadata": {},
   "source": [
    "## 3) Explanatory variables are scaled based on the training/testing data"
   ]
  },
  {
   "cell_type": "code",
   "execution_count": 17,
   "metadata": {},
   "outputs": [],
   "source": [
    "from sklearn.preprocessing import StandardScaler # v. 0.22.1\n",
    "\n",
    "# scale all X data based on training dataset\n",
    "scaler = StandardScaler()\n",
    "scaler.fit(X_tt)\n",
    "\n",
    "X_tt = scaler.transform(X_tt)\n",
    "X_val = scaler.transform(X_val)"
   ]
  },
  {
   "cell_type": "markdown",
   "metadata": {},
   "source": [
    "## 4) Hyperparameter sensitivity analysis is performed; the model is tuned"
   ]
  },
  {
   "cell_type": "code",
   "execution_count": 18,
   "metadata": {},
   "outputs": [
    {
     "name": "stdout",
     "output_type": "stream",
     "text": [
      "Tuned Parameter(s): {'max_depth': 15, 'n_estimators': 35}\n",
      "Best score is: 0.813753 +/- 0.128691\n"
     ]
    }
   ],
   "source": [
    "from sklearn.model_selection import KFold\n",
    "from sklearn.model_selection import GridSearchCV\n",
    "from sklearn.ensemble import RandomForestRegressor\n",
    "from sklearn import metrics\n",
    "\n",
    "# create model object\n",
    "model = RandomForestRegressor()\n",
    "\n",
    "# define type of cross validation to be used\n",
    "cv = KFold(n_splits = 9, shuffle = True)\n",
    "\n",
    "# set-up hyperparameter grid\n",
    "treecount = np.arange(1,51,2) # number of decisions trees in the ensemble\n",
    "maxdepth = np.arange(1,21,2) # longest path between root node and final node\n",
    "\n",
    "param_grid = {'n_estimators':treecount, 'max_depth':maxdepth}\n",
    "\n",
    "# define scoring parameters to evaluate the predictions on the test set\n",
    "scoring = 'r2'\n",
    "\n",
    "# create GridSearchCV object\n",
    "grid_cv = GridSearchCV(model, param_grid, scoring = scoring, cv = cv, refit = True) # when refit = True, will refit the best\n",
    "# estimator with the entire dataset\n",
    "\n",
    "# fit model to the train/test data\n",
    "grid_cv.fit(X_tt,np.ravel(y_tt, order = 'C'))\n",
    "\n",
    "mean_test_score = grid_cv.cv_results_['mean_test_score']\n",
    "std_test_score = grid_cv.cv_results_['std_test_score']\n",
    "best_std_test_score = grid_cv.cv_results_['std_test_score'][mean_test_score ==  grid_cv.best_score_]\n",
    "\n",
    "print(\"Tuned Parameter(s): {}\".format(grid_cv.best_params_))\n",
    "print(\"Best score is: %f +/- %f\" % (grid_cv.best_score_,best_std_test_score)) # mean cross-validated score of the best estimator"
   ]
  },
  {
   "cell_type": "markdown",
   "metadata": {},
   "source": [
    "## 5) Model performance is assessed using validation dataset"
   ]
  },
  {
   "cell_type": "code",
   "execution_count": 19,
   "metadata": {},
   "outputs": [
    {
     "name": "stdout",
     "output_type": "stream",
     "text": [
      "VALIDATION DATASET (black line), r2:  0.904289, rmse:  0.274642, p value:  0.000000\n"
     ]
    },
    {
     "data": {
      "image/png": "[encoded data removed]",
      "text/plain": [
       "<Figure size 500x400 with 1 Axes>"
      ]
     },
     "metadata": {
      "needs_background": "light"
     },
     "output_type": "display_data"
    }
   ],
   "source": [
    "# predict y for validation data subset\n",
    "y_pred = grid_cv.predict(X_val)\n",
    "\n",
    "# plot predicted validation y against true validation y\n",
    "fig, (ax) =  plt.subplots(1, 1, figsize = (5, 4), dpi = 100)\n",
    "\n",
    "plt.plot(y_val,y_pred,'ko')\n",
    "plt.plot(y_val,y_val, color = 'r', label = \"one-to-one line\")\n",
    "\n",
    "plt.xlabel('log$_{10}$[measured NFR (nmol N L$^{-1}$ d$^{-1}$)]')\n",
    "plt.ylabel('log$_{10}$[mean predicted NFR (nmol N L$^{-1}$ d$^{-1}$)]')\n",
    "\n",
    "# perform and plot linear regression of true y against predicted y\n",
    "slope, intercept, r_value, p_value, std_err = ss.linregress(y_val,y_pred)\n",
    "line = slope*y_val + intercept\n",
    "plt.plot(y_val,line, \"k--\", label = \"model\")\n",
    "\n",
    "# calculate r2 and rmse using sklearn calculation method (differs slightly from ss method)\n",
    "r2_comp = metrics.r2_score(y_val,y_pred)\n",
    "rmse_comp = np.sqrt(metrics.mean_squared_error(y_val,y_pred))\n",
    "\n",
    "ax.legend()\n",
    "plt.title(\"Model performance on validation dataset\")\n",
    "\n",
    "print(\"VALIDATION DATASET (black line), r2:  %f, rmse:  %f, p value:  %f\" % (r2_comp,rmse_comp,p_value))"
   ]
  },
  {
   "cell_type": "markdown",
   "metadata": {},
   "source": [
    "##  6) Predictive data are read in and scaled"
   ]
  },
  {
   "cell_type": "code",
   "execution_count": 30,
   "metadata": {},
   "outputs": [
    {
     "data": {
      "text/plain": [
       "Index(['Sta', 'Depth_m', 'Lat', 'Lon', 'Sal', 'Temp_C', 'Chl_mgm3',\n",
       "       'DO_umolkg', 'Sigmat_kgm3', 'SeafloorDepth_m'],\n",
       "      dtype='object')"
      ]
     },
     "execution_count": 30,
     "metadata": {},
     "output_type": "execute_result"
    }
   ],
   "source": [
    "# read in compiled, binned satellite data\n",
    "\n",
    "infile = \"../Calculations/Sharp16_BinnedCTDData_bySta.csv\"\n",
    "ctd = pd.read_csv(infile)\n",
    "ctd = ctd.dropna()\n",
    "ctd = ctd.sort_values(by = ['Sta','Depth_m'])\n",
    "ctd.columns"
   ]
  },
  {
   "cell_type": "code",
   "execution_count": 31,
   "metadata": {},
   "outputs": [],
   "source": [
    "# # reorganize df to match model training data\n",
    "# X_ctd = pd.DataFrame(data = {'z': ctd.Depth_m, 'sfz': ctd.SeafloorDepth_m, 'temp': ctd.Temp_C, 'sal': ctd.Sal, 'do': ctd.DO_umolkg, 'chl': ctd.Chl_mgm3})\n",
    "X_ctd = pd.DataFrame(data = {'z': ctd.Depth_m, 'sfz': ctd.SeafloorDepth_m, 'temp': ctd.Temp_C, 'sal': ctd.Sal, 'chl': ctd.Chl_mgm3})"
   ]
  },
  {
   "cell_type": "code",
   "execution_count": 32,
   "metadata": {},
   "outputs": [],
   "source": [
    "# scale satellite X data\n",
    "X_ctd = scaler.transform(X_ctd)"
   ]
  },
  {
   "cell_type": "markdown",
   "metadata": {},
   "source": [
    "## 7) y is predicted; data are saved for later use"
   ]
  },
  {
   "cell_type": "code",
   "execution_count": 33,
   "metadata": {},
   "outputs": [],
   "source": [
    "# predict y for predictive X data\n",
    "y_pred = grid_cv.predict(X_ctd)"
   ]
  },
  {
   "cell_type": "code",
   "execution_count": 34,
   "metadata": {},
   "outputs": [],
   "source": [
    "# save predictor variables and predicted nfr to a csv file\n",
    "# OutputData = pd.DataFrame(data = {'Sta': ctd.Sta, 'Depth_m': ctd.Depth_m, 'SeafloorDepth_m': ctd.SeafloorDepth_m, 'Temp_C': ctd.Temp_C, 'Sal': ctd.Sal, 'DO_umolkg': ctd.DO_umolkg, 'Chl_mgm3': ctd.Chl_mgm3, 'NFR_log10nmolNLd': y_pred})\n",
    "OutputData = pd.DataFrame(data = {'Lat': ctd.Lat, 'Lon': ctd.Lon, 'Sta': ctd.Sta, 'Depth_m': ctd.Depth_m, 'SeafloorDepth_m': ctd.SeafloorDepth_m, 'Temp_C': ctd.Temp_C, 'Sal': ctd.Sal, 'Chl_mgm3': ctd.Chl_mgm3, 'NFR_log10nmolNLd': y_pred})\n",
    "OutputData.to_csv('../Calculations/RF_CTDPred.csv')"
   ]
  },
  {
   "cell_type": "markdown",
   "metadata": {},
   "source": [
    "## SUPPLEMENTAL:  Quick visualization of predicted data"
   ]
  },
  {
   "cell_type": "code",
   "execution_count": 89,
   "metadata": {},
   "outputs": [
    {
     "data": {
      "text/plain": [
       "<matplotlib.legend.Legend at 0x2457189c438>"
      ]
     },
     "execution_count": 89,
     "metadata": {},
     "output_type": "execute_result"
    },
    {
     "data": {
      "image/png": "[encoded data removed]",
      "text/plain": [
       "<Figure size 400x400 with 1 Axes>"
      ]
     },
     "metadata": {
      "needs_background": "light"
     },
     "output_type": "display_data"
    }
   ],
   "source": [
    "infile = '../Calculations/RF_CTDPred.csv'\n",
    "pred = pd.read_csv(infile)\n",
    "\n",
    "a = 20 # station\n",
    "\n",
    "# log transform measured rates for the given station\n",
    "nfr_true = df.NFR_nmolNLd[df.Sta == a]\n",
    "logy = []\n",
    "for i in nfr_true:\n",
    "    if i == 0:\n",
    "        logyi = np.log10(np.median(df.NFR_LOD)) # if Nfix was not detectable, use median LOD instead of value\n",
    "    else:\n",
    "        logyi = np.log10(i)\n",
    "    logy.append('%f' % logyi)\n",
    "nfr_true = pd.DataFrame(logy, columns = ['nfr'], dtype = float)\n",
    "\n",
    "# plot\n",
    "fig, ax = plt.subplots(1,1, dpi = 100, figsize = (4,4))\n",
    "\n",
    "plt.plot(pred.NFR_log10nmolNLd[pred.Sta == a], pred.Depth_m[pred.Sta == a], '-ok', label = 'predicted', zorder = 0, mfc = 'w')\n",
    "plt.scatter(nfr_true, df.Depth_m[df.Sta == a], c = 'r', label = 'measured', s = 100, edgecolor = 'k')\n",
    "plt.plot(np.ones(50,)*np.log10(np.median(df.NFR_LOD)),np.arange(0,500,10), 'b', linewidth = 5, linestyle = '--', label = 'median DL', zorder = -1)\n",
    "\n",
    "plt.scatter(ctd.Chl_mgm3[ctd.Sta == a] - 0.4,ctd.Depth_m[ctd.Sta == a], color = 'g', zorder = -1, label = '[Chla] (mg m$^{3}$)', alpha = 0.5)\n",
    "\n",
    "plt.xlabel('NFR (log$_{10}$(nmol N L$^{-1}$ d$^{-1}$))')\n",
    "plt.ylabel('Depth (m)')\n",
    "# plt.xlim(-1,3)\n",
    "plt.ylim(0,350) # MOST MEASUREMENTS ABOVE 150; very few measurements made below 250 m\n",
    "\n",
    "plt.gca().invert_yaxis()\n",
    "plt.legend(loc = 'best')\n"
   ]
  },
  {
   "cell_type": "code",
   "execution_count": null,
   "metadata": {},
   "outputs": [],
   "source": []
  }
 ],
 "metadata": {
  "kernelspec": {
   "display_name": "Python 3",
   "language": "python",
   "name": "python3"
  },
  "language_info": {
   "codemirror_mode": {
    "name": "ipython",
    "version": 3
   },
   "file_extension": ".py",
   "mimetype": "text/x-python",
   "name": "python",
   "nbconvert_exporter": "python",
   "pygments_lexer": "ipython3",
   "version": "3.7.3"
  }
 },
 "nbformat": 4,
 "nbformat_minor": 4
}
